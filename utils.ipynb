{
 "cells": [
  {
   "cell_type": "code",
   "execution_count": 1,
   "id": "5efad9b3-73d5-47bc-8f11-6751bc727c08",
   "metadata": {},
   "outputs": [],
   "source": [
    "import torch\n",
    "from tqdm import tqdm\n",
    "\n",
    "def generate(category_with_word, tokenizer, model, device, num=5, max_length=32):\n",
    "    sentence_list = []\n",
    "    \n",
    "    if tokenizer.pad_token_id is None:\n",
    "        tokenizer.pad_token_id = tokenizer.eos_token_id\n",
    "\n",
    "    inputs = tokenizer(category_with_word + \"|\", return_tensors=\"pt\").to(device)\n",
    "    token_ids = inputs[\"input_ids\"]\n",
    "    attention_mask = inputs[\"attention_mask\"]\n",
    "\n",
    "    for _ in tqdm(range(num)):\n",
    "        gen_ids = model.generate(\n",
    "            input_ids=token_ids,\n",
    "            attention_mask=attention_mask,\n",
    "            max_length=max_length,\n",
    "            repetition_penalty=2.0,\n",
    "            pad_token_id=tokenizer.pad_token_id,\n",
    "            eos_token_id=tokenizer.eos_token_id,\n",
    "            bos_token_id=tokenizer.bos_token_id,\n",
    "            use_cache=True,\n",
    "            do_sample=True,\n",
    "        )\n",
    "        sentence = tokenizer.decode(gen_ids[0], skip_special_tokens=True)\n",
    "        \n",
    "        try:\n",
    "            partitioned_sentence = sentence.split(\"|\", 1)[1]\n",
    "        except IndexError:\n",
    "            partitioned_sentence = sentence\n",
    "        \n",
    "        sentence = partitioned_sentence.replace(\"|\", \" \").strip()\n",
    "        sentence_list.append(sentence)\n",
    "    \n",
    "    return sentence_list"
   ]
  }
 ],
 "metadata": {
  "kernelspec": {
   "display_name": "Python 3 (ipykernel)",
   "language": "python",
   "name": "python3"
  },
  "language_info": {
   "codemirror_mode": {
    "name": "ipython",
    "version": 3
   },
   "file_extension": ".py",
   "mimetype": "text/x-python",
   "name": "python",
   "nbconvert_exporter": "python",
   "pygments_lexer": "ipython3",
   "version": "3.9.19"
  }
 },
 "nbformat": 4,
 "nbformat_minor": 5
}
