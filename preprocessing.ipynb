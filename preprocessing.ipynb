{
 "cells": [
  {
   "cell_type": "code",
   "execution_count": 1,
   "id": "4a7d8e71-d953-4bfa-a8d3-1f45fc8f1772",
   "metadata": {},
   "outputs": [
    {
     "name": "stdout",
     "output_type": "stream",
     "text": [
      "전처리 데이터가 성공적으로 저장되었습니다.\n"
     ]
    }
   ],
   "source": [
    "import os\n",
    "import json\n",
    "import pandas as pd\n",
    "\n",
    "# 카테고리 분류 함수 정의\n",
    "def classify_category(subject, categories):\n",
    "    for category, keywords_list in categories.items():\n",
    "        if subject in keywords_list:\n",
    "            return category\n",
    "    return \"일치하는 카테고리 없음\"\n",
    "\n",
    "# 카테고리별 키워드 리스트 확장\n",
    "categories = {\n",
    "    \"일상 대화\": [\"안부\", \"일상\", \"생각\", \"감정\", \"성향\", \"문화\", \"취미\", \"여가\", \"게임\", \"미용\", \"독서\", \"음악\", \"날씨\", \"계절\", \"일상\", \"방송\", \"연예\", \"생활\", \"반려 동물\", \"영화\", \"만화\", \"가족\", \"연애\", \"결혼\", \"여행\", \"사회이슈\", \"타 국가 이슈\", \"주거와 생활\", \"군대\", \"스포츠/레저\"],\n",
    "    \"주문\": [\"경제\", \"쇼핑\", \"거래\", \"상품\", \"서비스\", \"식음료\", \"상거래 전반\"],\n",
    "    \"요청\": [\"도움 요청\", \"조언 구하기\", \"피드백 요청\", \"정보 요청\", \"교통\", \"회사/아르바이트\"],\n",
    "    \"건강\": [\"건강정보공유\", \"질병\", \"병원\", \"운동\", \"영양\"],\n",
    "    \"교육\": [\"자기계발\", \"공부\", \"시험\", \"학교\", \"교육\"]\n",
    "}\n",
    "\n",
    "base_dir = 'C:/Users/NM333-68/LLM/datasets'\n",
    "# 폴더 경로 목록 정의\n",
    "folders = [\n",
    "    \"TL_01. KAKAO(1)\", \"TL_01. KAKAO(2)\", \n",
    "    \"TL_01. KAKAO(3)\", \"TL_01. KAKAO(4)\", \n",
    "    \"TL_02. FACEBOOK\", \"TL_03. INSTAGRAM\", \n",
    "    \"TL_04. BAND\", \"TL_05. NATEON\"\n",
    "]\n",
    "\n",
    "# 데이터를 저장할 리스트 생성\n",
    "data = []\n",
    "\n",
    "# 지정된 폴더들 내의 모든 JSON 파일을 처리\n",
    "for folder in folders:\n",
    "    folder_path = os.path.join(base_dir, folder)\n",
    "    for file_name in os.listdir(folder_path):\n",
    "        if file_name.endswith('.json'):\n",
    "            file_path = os.path.join(folder_path, file_name)\n",
    "            with open(file_path, 'r', encoding='utf-8') as f:\n",
    "                data_json = json.load(f)\n",
    "            for item in data_json[\"info\"]:\n",
    "                subject = item[\"annotations\"][\"subject\"]\n",
    "                for line in item[\"annotations\"][\"lines\"]:\n",
    "                    norm_text = line[\"norm_text\"]  # norm_text 사용\n",
    "                    # subject를 기반으로 카테고리 분류\n",
    "                    category = classify_category(subject, categories)\n",
    "                    # 데이터 리스트에 추가\n",
    "                    data.append({\n",
    "                        'id': line[\"id\"],\n",
    "                        'Category': category,\n",
    "                        'Text': norm_text\n",
    "                    })\n",
    "\n",
    "# 데이터프레임으로 변환\n",
    "df = pd.DataFrame(data, columns=['id', 'Category', 'Text'])\n",
    "\n",
    "# CSV 파일로 저장\n",
    "save_path = 'C:/Users/NM333-68/LLM/KoGPT2/datasets/preprocessed'\n",
    "csv_file_name = os.path.join(save_path, 'finetuning_data.csv')\n",
    "df.to_csv(csv_file_name, index=False, encoding='utf-8-sig')\n",
    "\n",
    "print(\"전처리 데이터가 성공적으로 저장되었습니다.\")\n"
   ]
  }
 ],
 "metadata": {
  "kernelspec": {
   "display_name": "Python 3 (ipykernel)",
   "language": "python",
   "name": "python3"
  },
  "language_info": {
   "codemirror_mode": {
    "name": "ipython",
    "version": 3
   },
   "file_extension": ".py",
   "mimetype": "text/x-python",
   "name": "python",
   "nbconvert_exporter": "python",
   "pygments_lexer": "ipython3",
   "version": "3.9.19"
  }
 },
 "nbformat": 4,
 "nbformat_minor": 5
}
