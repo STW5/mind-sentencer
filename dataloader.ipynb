{
 "cells": [
  {
   "cell_type": "code",
   "execution_count": 1,
   "id": "13925623-93f1-4bb1-9ee2-cb6dda3031cf",
   "metadata": {},
   "outputs": [],
   "source": [
    "import pandas as pd\n",
    "from torch.utils.data import Dataset, DataLoader\n",
    "\n",
    "class GPTDataset(Dataset):\n",
    "    def __init__(self, tokenizer, file_path):\n",
    "        print(f\"Loading data from: {file_path}\")  # 디버깅 출력\n",
    "        data = pd.read_csv(file_path)\n",
    "        print(f\"Data columns: {data.columns}\")  # 데이터 컬럼 출력\n",
    "\n",
    "        # 'Category'와 'Text' 컬럼을 사용하여 concats 리스트 생성\n",
    "        concats = [\n",
    "            str(category) + \"|\" + str(text) for category, text in zip(data[\"Category\"], data[\"Text\"])\n",
    "        ]\n",
    "\n",
    "        print(f\"Concatenated data sample: {concats[:5]}\")  # 첫 5개의 데이터 확인\n",
    "\n",
    "        self.item = tokenizer(\n",
    "            concats,\n",
    "            return_tensors=\"pt\",\n",
    "            padding=\"max_length\",\n",
    "            truncation=True,\n",
    "            max_length=32,\n",
    "        )[\"input_ids\"]\n",
    "        self.length = len(concats)  # concats 리스트의 길이로 길이 설정\n",
    "        print(f\"Dataset length: {self.length}\")  # 데이터셋 길이 출력\n",
    "\n",
    "    def __getitem__(self, i):\n",
    "        return self.item[i]\n",
    "\n",
    "    def __len__(self):\n",
    "        return self.length\n",
    "\n",
    "def GPTDataLoader(tokenizer, file_path, batch_size):\n",
    "    dataset = GPTDataset(tokenizer, file_path)\n",
    "    return DataLoader(dataset, batch_size=batch_size)"
   ]
  }
 ],
 "metadata": {
  "kernelspec": {
   "display_name": "Python 3 (ipykernel)",
   "language": "python",
   "name": "python3"
  },
  "language_info": {
   "codemirror_mode": {
    "name": "ipython",
    "version": 3
   },
   "file_extension": ".py",
   "mimetype": "text/x-python",
   "name": "python",
   "nbconvert_exporter": "python",
   "pygments_lexer": "ipython3",
   "version": "3.9.19"
  }
 },
 "nbformat": 4,
 "nbformat_minor": 5
}
