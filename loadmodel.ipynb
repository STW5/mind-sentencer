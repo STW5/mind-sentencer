{
 "cells": [
  {
   "cell_type": "code",
   "execution_count": 1,
   "id": "d188a7ff-e0a0-4954-8324-1a1693b25c72",
   "metadata": {
    "scrolled": true
   },
   "outputs": [
    {
     "name": "stderr",
     "output_type": "stream",
     "text": [
      "Special tokens have been added in the vocabulary, make sure the associated word embeddings are fine-tuned or trained.\n"
     ]
    },
    {
     "name": "stdout",
     "output_type": "stream",
     "text": [
      "카테고리를 입력하세요 (예: 일상 대화, 주문, 요청, 건강, 교육):  요청\n",
      "단어들을 입력하세요 (예: 나, 밥, 먹다):  나, 물\n"
     ]
    },
    {
     "name": "stdout",
     "output_type": "stream",
     "text": [
      "카테고리: 요청, 단어들: 나, 물 => 생성된 문장들:\n",
      "- 요청: 나 물 좀 주세요, 부디 허락해 주시기 바랍니다.\n",
      "- 요청: 나 물 좀 주시겠어요? 정말 부탁드립니다.\n",
      "- 요청: 나 물 좀 주시면 정말 감사하겠습니다.\n",
      "- 요청: 나 물 좀 주시면 정말 고맙겠습니다.\n",
      "- 요청: 나 물 한 잔 주실 수 있우리 이 음식 맛있게 먹었어.\n"
     ]
    }
   ],
   "source": [
    "import os\n",
    "import torch\n",
    "import nbimporter\n",
    "from transformers import GPT2LMHeadModel, AutoTokenizer\n",
    "from utils import generate\n",
    "\n",
    "import warnings\n",
    "warnings.filterwarnings(\"ignore\", category=FutureWarning)\n",
    "\n",
    "def load_model(model_path, tokenizer_name):\n",
    "    tokenizer = AutoTokenizer.from_pretrained(tokenizer_name)\n",
    "    model = GPT2LMHeadModel.from_pretrained(model_path)\n",
    "    return tokenizer, model\n",
    "\n",
    "if __name__ == \"__main__\":\n",
    "    import warnings\n",
    "    warnings.filterwarnings(\"ignore\", category=FutureWarning)\n",
    "\n",
    "    # 모델과 토크나이저 설정\n",
    "    model_name = \"skt/kogpt2-base-v2\"\n",
    "    model_path = \"C:/Users/NM333-68/LLM/KoGPT2/best_model\"\n",
    "\n",
    "    # 경로가 올바른지 확인\n",
    "    if not os.path.exists(model_path):\n",
    "        raise ValueError(f\"Model path {model_path} does not exist.\")\n",
    "\n",
    "    # 모델 및 토크나이저 로드\n",
    "    tokenizer, model = load_model(model_path, model_name)\n",
    "\n",
    "    # 디바이스 설정\n",
    "    device = torch.device(\"cuda\" if torch.cuda.is_available() else \"cpu\")\n",
    "    model.to(device)\n",
    "\n",
    "    # 사용자 입력 받기 및 문장 생성\n",
    "    category = input(\"카테고리를 입력하세요 (예: 일상 대화, 주문, 요청, 건강, 교육): \")\n",
    "    words_input = input(\"단어들을 입력하세요 (예: 나, 밥, 먹다): \")\n",
    "    words = [word.strip() for word in words_input.split(',')]\n",
    "\n",
    "    # 문장 생성\n",
    "    generated_sentences = generate(category, words, tokenizer, model, device, num=5, max_length=50)\n",
    "    \n",
    "    # 생성된 문장 출력\n",
    "    print(f\"카테고리: {category}, 단어들: {', '.join(words)} => 생성된 문장들:\")\n",
    "    for sentence in generated_sentences:\n",
    "        print(f\"- {sentence}\")"
   ]
  }
 ],
 "metadata": {
  "kernelspec": {
   "display_name": "Python 3 (ipykernel)",
   "language": "python",
   "name": "python3"
  },
  "language_info": {
   "codemirror_mode": {
    "name": "ipython",
    "version": 3
   },
   "file_extension": ".py",
   "mimetype": "text/x-python",
   "name": "python",
   "nbconvert_exporter": "python",
   "pygments_lexer": "ipython3",
   "version": "3.9.19"
  }
 },
 "nbformat": 4,
 "nbformat_minor": 5
}
