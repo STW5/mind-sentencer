{
 "cells": [
  {
   "cell_type": "code",
   "execution_count": 1,
   "id": "cb7417a3-3602-426e-9443-187cf80687a2",
   "metadata": {},
   "outputs": [
    {
     "name": "stdout",
     "output_type": "stream",
     "text": [
      "BASE_DIR: C:\\Users\\NM333-68\\LLM\\KoGPT2\n",
      "DATA_DIR: C:/Users/NM333-68/LLM/KoGPT2/datasets/preprocessed\n"
     ]
    },
    {
     "name": "stderr",
     "output_type": "stream",
     "text": [
      "C:\\Users\\NM333-68\\anaconda3\\lib\\site-packages\\huggingface_hub\\file_download.py:1132: FutureWarning: `resume_download` is deprecated and will be removed in version 1.0.0. Downloads always resume when possible. If you want to force a new download, use `force_download=True`.\n",
      "  warnings.warn(\n",
      "Special tokens have been added in the vocabulary, make sure the associated word embeddings are fine-tuned or trained.\n"
     ]
    },
    {
     "name": "stdout",
     "output_type": "stream",
     "text": [
      "Loading data from: C:/Users/NM333-68/LLM/KoGPT2/datasets/preprocessed\\finetuning_data.csv\n",
      "Data columns: Index(['id', 'Category', 'Text'], dtype='object')\n",
      "Concatenated data sample: ['주문|애덜앙 나 너무 배불러서 배 아파', '주문|배 아프면 약국 가서 소화제라도 마시는 거 어때', '주문|얼마나 먹었다고 배가 아프데', '주문|떡볶이랑 튀김이랑 닭껍질튀김이랑 마카롱 먹었어', '주문|하긴 *이 배는 파리보다 작으니까 당연히 그만큼 먹어도 배부르지']\n",
      "Dataset length: 1445943\n"
     ]
    },
    {
     "name": "stderr",
     "output_type": "stream",
     "text": [
      "C:\\Users\\NM333-68\\anaconda3\\lib\\site-packages\\huggingface_hub\\file_download.py:1132: FutureWarning: `resume_download` is deprecated and will be removed in version 1.0.0. Downloads always resume when possible. If you want to force a new download, use `force_download=True`.\n",
      "  warnings.warn(\n",
      "C:\\Users\\NM333-68\\anaconda3\\lib\\site-packages\\transformers\\optimization.py:391: FutureWarning: This implementation of AdamW is deprecated and will be removed in a future version. Use the PyTorch implementation torch.optim.AdamW instead, or set `no_deprecation_warning=True` to disable this warning\n",
      "  warnings.warn(\n"
     ]
    },
    {
     "name": "stdout",
     "output_type": "stream",
     "text": [
      "Training epoch 0\n"
     ]
    },
    {
     "data": {
      "application/vnd.jupyter.widget-view+json": {
       "model_id": "f72be39727e24290bc84166f15610765",
       "version_major": 2,
       "version_minor": 0
      },
      "text/plain": [
       "  0%|          | 0/45186 [00:00<?, ?it/s]"
      ]
     },
     "metadata": {},
     "output_type": "display_data"
    },
    {
     "name": "stdout",
     "output_type": "stream",
     "text": [
      "epoch 0 avg_loss 1.42\n",
      "일상 대화 : ['내가 아는건 또 안쓰나봐.']\n",
      "주문 : ['나는 직구 해봤어']\n",
      "요청 : ['그러니까 우리 부모님도 이제 사교육에 안들려고 하고 있다더라']\n",
      "건강 : ['그래? 요즘 애들 학원을 많이 가는 추세인데']\n",
      "교육 : ['나도 해보고는 싶었는데 다행이네']\n",
      "Training epoch 1\n"
     ]
    },
    {
     "data": {
      "application/vnd.jupyter.widget-view+json": {
       "model_id": "575b0a00889e455e87d2d72074e9f018",
       "version_major": 2,
       "version_minor": 0
      },
      "text/plain": [
       "  0%|          | 0/45186 [00:00<?, ?it/s]"
      ]
     },
     "metadata": {},
     "output_type": "display_data"
    },
    {
     "name": "stdout",
     "output_type": "stream",
     "text": [
      "epoch 1 avg_loss 1.34\n",
      "일상 대화 : ['음식은 다 맛있었고?']\n",
      "주문 : ['그래? 나도 잘은 안하는데!']\n",
      "요청 : ['응. 지하철이 불편하지 않고 안전해']\n",
      "건강 : ['맞아. 나도 그렇게 배우고싶어']\n",
      "교육 : ['그렇구나. 나는 괜찮을 거 같아']\n",
      "Training epoch 2\n"
     ]
    },
    {
     "data": {
      "application/vnd.jupyter.widget-view+json": {
       "model_id": "66894e179e5a4cab8c82d097c1715c24",
       "version_major": 2,
       "version_minor": 0
      },
      "text/plain": [
       "  0%|          | 0/45186 [00:00<?, ?it/s]"
      ]
     },
     "metadata": {},
     "output_type": "display_data"
    },
    {
     "name": "stdout",
     "output_type": "stream",
     "text": [
      "epoch 2 avg_loss 1.30\n",
      "일상 대화 : ['그러게 이번에 한번 해볼까?']\n",
      "주문 : ['엄마 드립 커피에 타서 마시면 별거 안 먹게끔 만들어']\n",
      "요청 : ['그래요? 우리팀 부럽네요.']\n",
      "건강 : ['나는 과제가 많았어.']\n",
      "교육 : ['학교 다닐 때 기억나는 선생님은 있어?']\n",
      "Training epoch 3\n"
     ]
    },
    {
     "data": {
      "application/vnd.jupyter.widget-view+json": {
       "model_id": "b5d37338349a4aaaa83089f986077c11",
       "version_major": 2,
       "version_minor": 0
      },
      "text/plain": [
       "  0%|          | 0/45186 [00:00<?, ?it/s]"
      ]
     },
     "metadata": {},
     "output_type": "display_data"
    },
    {
     "name": "stdout",
     "output_type": "stream",
     "text": [
      "epoch 3 avg_loss 1.27\n",
      "일상 대화 : ['그럼 내가 닌텐도 사고 싶다.']\n",
      "주문 : ['응 나는 인터넷이 좋은데 다른곳에서 사면 더 싸고 괜찮은 것 같아']\n",
      "요청 : ['요즘 취업이 너무 힘들어.']\n",
      "건강 : ['그러면 우리끼리  은 영어 스터디나 해보자.']\n",
      "교육 : ['그렇구나.']\n",
      "Training epoch 4\n"
     ]
    },
    {
     "data": {
      "application/vnd.jupyter.widget-view+json": {
       "model_id": "54d2b5a261074d91bddd0a775ff5354e",
       "version_major": 2,
       "version_minor": 0
      },
      "text/plain": [
       "  0%|          | 0/45186 [00:00<?, ?it/s]"
      ]
     },
     "metadata": {},
     "output_type": "display_data"
    },
    {
     "name": "stdout",
     "output_type": "stream",
     "text": [
      "epoch 4 avg_loss 1.25\n",
      "일상 대화 : ['저는 그냥 다정한 사람이 이상형인 거 같아요.']\n",
      "주문 : ['나는 아디다스 티셔츠 하나 사려고!']\n",
      "요청 : ['나도 그냥 타기만 하면 되는 거지.']\n",
      "건강 : ['그래서 내년에도 계속 하고 있어']\n",
      "교육 : ['아니 나는 영어는 별로인 거 같기는 해']\n",
      "Training epoch 5\n"
     ]
    },
    {
     "data": {
      "application/vnd.jupyter.widget-view+json": {
       "model_id": "70171ba3265f481999dbb2593b4472e4",
       "version_major": 2,
       "version_minor": 0
      },
      "text/plain": [
       "  0%|          | 0/45186 [00:00<?, ?it/s]"
      ]
     },
     "metadata": {},
     "output_type": "display_data"
    },
    {
     "name": "stdout",
     "output_type": "stream",
     "text": [
      "epoch 5 avg_loss 1.23\n",
      "일상 대화 : ['어렸을때 하던 게임 뭐 생각나?']\n",
      "주문 : ['그래도 앱으로 옷 시켰는데 예쁘더라고']\n",
      "요청 : ['예전에 잠깐 아르바이트 했었는데 많이 바빠서 힘들었어요']\n",
      "건강 : ['이번에도 기필 코리안카드 써?']\n",
      "교육 : ['다들 학원가면 놀러도 다니고 하고 난리다 이놈']\n",
      "Training epoch 6\n"
     ]
    },
    {
     "data": {
      "application/vnd.jupyter.widget-view+json": {
       "model_id": "cf7c922123a14de3be94527ba47bc116",
       "version_major": 2,
       "version_minor": 0
      },
      "text/plain": [
       "  0%|          | 0/45186 [00:00<?, ?it/s]"
      ]
     },
     "metadata": {},
     "output_type": "display_data"
    },
    {
     "name": "stdout",
     "output_type": "stream",
     "text": [
      "epoch 6 avg_loss 1.21\n",
      "일상 대화 : ['그래? 그럼 너희 가족들끼리 모이는건 어때']\n",
      "주문 : ['응 이번에 쇼핑을 하려고 하는데, 다른 것도 사려나 ㅠㅠ']\n",
      "요청 : ['그거 한 번 타고 싶은데 시간때우기 좋을 거 같아']\n",
      "건강 : ['한번도 안써보셨나요?']\n",
      "교육 : ['어떤 게 제일 잘 되시는데요?']\n",
      "Training epoch 7\n"
     ]
    },
    {
     "data": {
      "application/vnd.jupyter.widget-view+json": {
       "model_id": "78140e67f5a041bba782ad91435703dd",
       "version_major": 2,
       "version_minor": 0
      },
      "text/plain": [
       "  0%|          | 0/45186 [00:00<?, ?it/s]"
      ]
     },
     "metadata": {},
     "output_type": "display_data"
    },
    {
     "name": "stdout",
     "output_type": "stream",
     "text": [
      "epoch 7 avg_loss 1.20\n",
      "일상 대화 : ['우리 아빠도 좋아하시더라.']\n",
      "주문 : ['어디서 받아?']\n",
      "요청 : ['이제 그만 뒀어요.']\n",
      "건강 : ['나도 그런 거 잘 몰라.']\n",
      "교육 : ['학원에서 수업하면 되잖아']\n",
      "Training epoch 8\n"
     ]
    },
    {
     "data": {
      "application/vnd.jupyter.widget-view+json": {
       "model_id": "b6703bbe5c4d4d52a76cc4d04c5a282b",
       "version_major": 2,
       "version_minor": 0
      },
      "text/plain": [
       "  0%|          | 0/45186 [00:00<?, ?it/s]"
      ]
     },
     "metadata": {},
     "output_type": "display_data"
    },
    {
     "name": "stdout",
     "output_type": "stream",
     "text": [
      "epoch 8 avg_loss 1.19\n",
      "일상 대화 : ['맞아요 그래서 내가 꼭 이기라고 했어요.']\n",
      "주문 : ['내일 점심에 시켜먹어볼까?']\n",
      "요청 : ['이번에 아르바이트로 과자 한박스 샀잖아 하하']\n",
      "건강 : ['네 들어보긴 했지만 잘 기억이 안나요']\n",
      "교육 : ['열심히 하고 싶어. 화이팅!']\n",
      "Training epoch 9\n"
     ]
    },
    {
     "data": {
      "application/vnd.jupyter.widget-view+json": {
       "model_id": "89b45e69a43c4bb8a0167ff5ac7e50fe",
       "version_major": 2,
       "version_minor": 0
      },
      "text/plain": [
       "  0%|          | 0/45186 [00:00<?, ?it/s]"
      ]
     },
     "metadata": {},
     "output_type": "display_data"
    },
    {
     "name": "stdout",
     "output_type": "stream",
     "text": [
      "epoch 9 avg_loss 1.18\n",
      "일상 대화 : ['아니면 우리집에서 같이 자고 와!']\n",
      "주문 : ['어플있지 거기']\n",
      "요청 : ['오래 걸려야해서요']\n",
      "건강 : ['그렇겠지? 나도 선생님들한테 한번 배워야 할 것 같아']\n",
      "교육 : ['나도 토익이라 해 놓고 다음 날은 학원비 내면서 다 까먹었어.']\n",
      "학습 완료되었습니다.\n"
     ]
    }
   ],
   "source": [
    "import os\n",
    "import torch\n",
    "import argparse\n",
    "import nbimporter\n",
    "from tqdm.auto import tqdm\n",
    "from transformers import GPT2LMHeadModel, AutoTokenizer, AdamW, get_linear_schedule_with_warmup\n",
    "from dataloader import GPTDataLoader\n",
    "from utils import generate\n",
    "\n",
    "import warnings\n",
    "warnings.filterwarnings(\"ignore\", category=FutureWarning)\n",
    "\n",
    "if __name__ == \"__main__\":\n",
    "    parser = argparse.ArgumentParser()\n",
    "    parser.add_argument(\"--model_name\", default=\"skt/kogpt2-base-v2\", type=str)\n",
    "    parser.add_argument(\"--data_dir\", default=\"C:/Users/NM333-68/LLM/KoGPT2/datasets/preprocessed\", type=str)\n",
    "    parser.add_argument(\"--batch_size\", default=32, type=int)\n",
    "    parser.add_argument(\"--epochs\", default=10, type=int)\n",
    "    parser.add_argument(\"--lr\", default=2e-5, type=float)\n",
    "    parser.add_argument(\"--warmup_steps\", default=200, type=int)\n",
    "    \n",
    "    # Jupyter 노트북에서 인자 파싱을 위한 추가 코드\n",
    "    import sys\n",
    "    if 'ipykernel' in sys.modules:\n",
    "        args = parser.parse_args([])\n",
    "    else:\n",
    "        args = parser.parse_args()\n",
    "\n",
    "    BASE_DIR = os.getcwd()\n",
    "    DATA_DIR = os.path.join(BASE_DIR, args.data_dir)\n",
    "\n",
    "    print(f\"BASE_DIR: {BASE_DIR}\")\n",
    "    print(f\"DATA_DIR: {DATA_DIR}\")\n",
    "\n",
    "    tokenizer = AutoTokenizer.from_pretrained(args.model_name)\n",
    "    tokenizer.add_special_tokens({\"pad_token\": \"<pad>\"}) \n",
    "\n",
    "    train_dataloader = GPTDataLoader(\n",
    "        tokenizer, os.path.join(DATA_DIR, \"finetuning_data.csv\"), args.batch_size\n",
    "    )\n",
    "\n",
    "    device = torch.device(\"cuda\" if torch.cuda.is_available() else \"cpu\")\n",
    "    model = GPT2LMHeadModel.from_pretrained(args.model_name)\n",
    "    model.resize_token_embeddings(len(tokenizer))\n",
    "    model.to(device)\n",
    "    model.train()\n",
    "\n",
    "    optimizer = AdamW(model.parameters(), lr=args.lr)\n",
    "    scheduler = get_linear_schedule_with_warmup(\n",
    "        optimizer, num_warmup_steps=args.warmup_steps, num_training_steps=len(train_dataloader) * args.epochs\n",
    "    )\n",
    "\n",
    "min_loss = float('inf')\n",
    "for epoch in range(args.epochs):\n",
    "    print(f\"Training epoch {epoch}\")\n",
    "    total_loss = 0\n",
    "    for input_text in tqdm(train_dataloader):\n",
    "        input_tensor = input_text.to(device)\n",
    "        outputs = model(input_tensor, labels=input_tensor)\n",
    "        loss = outputs[0]\n",
    "        total_loss += loss.item()\n",
    "        optimizer.zero_grad()\n",
    "        model.zero_grad()\n",
    "        loss.backward()\n",
    "        optimizer.step()\n",
    "        scheduler.step()\n",
    "\n",
    "    avg_loss = total_loss / len(train_dataloader)\n",
    "    print(f\"epoch {epoch} avg_loss {avg_loss:.2f}\")\n",
    "\n",
    "    categories = [\"일상 대화\", \"주문\", \"요청\", \"건강\", \"교육\"]\n",
    "    for category in categories:\n",
    "        gen = generate(category, tokenizer, model, device, max_length=50)\n",
    "        print(f\"{category} : {gen}\")\n",
    "\n",
    "    if avg_loss < min_loss:\n",
    "        min_loss = avg_loss\n",
    "        best_model_path = os.path.join(BASE_DIR, \"best_model\")\n",
    "        model.save_pretrained(best_model_path)\n",
    "\n",
    "print(\"학습 완료되었습니다.\")"
   ]
  }
 ],
 "metadata": {
  "kernelspec": {
   "display_name": "Python 3 (ipykernel)",
   "language": "python",
   "name": "python3"
  },
  "language_info": {
   "codemirror_mode": {
    "name": "ipython",
    "version": 3
   },
   "file_extension": ".py",
   "mimetype": "text/x-python",
   "name": "python",
   "nbconvert_exporter": "python",
   "pygments_lexer": "ipython3",
   "version": "3.9.19"
  }
 },
 "nbformat": 4,
 "nbformat_minor": 5
}
